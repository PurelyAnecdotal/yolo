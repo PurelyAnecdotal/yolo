{
 "cells": [
  {
   "cell_type": "code",
   "execution_count": null,
   "metadata": {},
   "outputs": [],
   "source": [
    "from ultralytics import YOLO"
   ]
  },
  {
   "cell_type": "code",
   "execution_count": null,
   "metadata": {},
   "outputs": [],
   "source": [
    "model = YOLO(\"yolo11n.pt\")"
   ]
  },
  {
   "cell_type": "code",
   "execution_count": null,
   "metadata": {},
   "outputs": [],
   "source": [
    "results = model(\"bus.jpg\")"
   ]
  },
  {
   "cell_type": "code",
   "execution_count": null,
   "metadata": {},
   "outputs": [],
   "source": [
    "%matplotlib inline\n",
    "\n",
    "import numpy as np\n",
    "import cv2\n",
    "import matplotlib.pyplot as plt\n",
    "from PIL import Image, ImageDraw, ImageFont\n",
    "\n",
    "def visualize_objects(image_path):\n",
    "    image = cv2.imread(image_path)\n",
    "    image = cv2.cvtColor(image, cv2.COLOR_BGR2RGB)\n",
    "\n",
    "    # Run inference\n",
    "    results = model(image)\n",
    "\n",
    "    # Convert image to PIL format if it's numpy array\n",
    "    if isinstance(image, np.ndarray):\n",
    "        image = Image.fromarray(image)\n",
    "\n",
    "    draw = ImageDraw.Draw(image)\n",
    "\n",
    "    # Try to load a nice font, fall back to default if not available\n",
    "    try:\n",
    "        font = ImageFont.truetype(\"DejaVuSans.ttf\", 20)\n",
    "    except:\n",
    "        font = ImageFont.load_default()\n",
    "\n",
    "    # Generate random colors for each class\n",
    "    np.random.seed(42)\n",
    "    colors = np.random.randint(0, 255, size=(len(results[0].names), 3)).tolist()\n",
    "\n",
    "    # Get the boxes and confidence scores\n",
    "    boxes = results[0].boxes\n",
    "\n",
    "    for box in boxes:\n",
    "        # Get box coordinates\n",
    "        x1, y1, x2, y2 = box.xyxy[0].cpu().numpy()\n",
    "        conf = float(box.conf[0].cpu().numpy())\n",
    "        cls = int(box.cls[0].cpu().numpy())\n",
    "\n",
    "        # Skip if confidence is below threshold\n",
    "        if conf < 0.3:\n",
    "            continue\n",
    "\n",
    "        # Draw bounding box\n",
    "        color = tuple(colors[cls])\n",
    "        draw.rectangle([x1, y1, x2, y2], outline=color, width=3)\n",
    "\n",
    "        # Add label with class name and confidence\n",
    "        label = f\"{results[0].names[cls]}: {conf:.2f}\"\n",
    "        label_size = draw.textsize(label, font=font) if hasattr(draw, 'textsize') else (\n",
    "            draw.textlength(label, font=font), font.size)\n",
    "\n",
    "        # Draw label background\n",
    "        draw.rectangle([x1, y1 - label_size[1], x1 + label_size[0], y1],\n",
    "                    fill=color)\n",
    "\n",
    "        # Draw label text\n",
    "        draw.text((x1, y1 - label_size[1]), label, fill=(255, 255, 255),\n",
    "                font=font)\n",
    "\n",
    "    output_image = image\n",
    "\n",
    "    # Create figure with specified size\n",
    "    plt.figure(figsize=(15, 10))\n",
    "\n",
    "    # Display the image\n",
    "    # Convert PIL image back to numpy array if needed\n",
    "    if isinstance(output_image, Image.Image):\n",
    "        output_image = np.array(output_image)\n",
    "\n",
    "    plt.imshow(output_image)\n",
    "    plt.axis('off')\n",
    "    return results"
   ]
  },
  {
   "cell_type": "code",
   "execution_count": null,
   "metadata": {},
   "outputs": [],
   "source": [
    "results = visualize_objects(\"bus.jpg\")\n",
    "\n",
    "# Print detection summary\n",
    "print(\"\\nDetection Summary:\")\n",
    "print(\"-----------------\")\n",
    "for box in results[0].boxes:\n",
    "    conf = float(box.conf[0].cpu().numpy())\n",
    "    cls = int(box.cls[0].cpu().numpy())\n",
    "    if conf >= 0.3:\n",
    "        print(f\"Class: {results[0].names[cls]}, Confidence: {conf:.2f}\")\n"
   ]
  }
 ],
 "metadata": {
  "kernelspec": {
   "display_name": ".venv",
   "language": "python",
   "name": "python3"
  },
  "language_info": {
   "codemirror_mode": {
    "name": "ipython",
    "version": 3
   },
   "file_extension": ".py",
   "mimetype": "text/x-python",
   "name": "python",
   "nbconvert_exporter": "python",
   "pygments_lexer": "ipython3",
   "version": "3.12.1"
  }
 },
 "nbformat": 4,
 "nbformat_minor": 2
}
